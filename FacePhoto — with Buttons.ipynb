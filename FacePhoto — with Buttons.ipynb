{
 "cells": [
  {
   "cell_type": "code",
   "execution_count": 2,
   "metadata": {
    "colab": {
     "base_uri": "https://localhost:8080/",
     "height": 326
    },
    "colab_type": "code",
    "id": "Im2OGprJTvtg",
    "outputId": "7bb4ac15-e388-41ee-eb5e-13282745a902"
   },
   "outputs": [
    {
     "name": "stdout",
     "output_type": "stream",
     "text": [
      "Requirement already satisfied: face_recognition in /usr/local/lib/python3.7/site-packages (1.2.3)\n",
      "Requirement already satisfied: Pillow in /usr/local/lib/python3.7/site-packages (from face_recognition) (6.1.0)\n",
      "Requirement already satisfied: face-recognition-models>=0.3.0 in /usr/local/lib/python3.7/site-packages (from face_recognition) (0.3.0)\n",
      "Requirement already satisfied: Click>=6.0 in /usr/local/lib/python3.7/site-packages (from face_recognition) (7.0)\n",
      "Requirement already satisfied: numpy in /usr/local/lib/python3.7/site-packages (from face_recognition) (1.17.1)\n",
      "Requirement already satisfied: dlib>=19.7 in /usr/local/lib/python3.7/site-packages (from face_recognition) (19.17.0)\n",
      "Collecting widgets\n",
      "\u001b[31m  ERROR: Could not find a version that satisfies the requirement widgets (from versions: none)\u001b[0m\n",
      "\u001b[31mERROR: No matching distribution found for widgets\u001b[0m\n"
     ]
    }
   ],
   "source": [
    "!pip3 install face_recognition"
   ]
  },
  {
   "cell_type": "code",
   "execution_count": 1,
   "metadata": {},
   "outputs": [
    {
     "name": "stdout",
     "output_type": "stream",
     "text": [
      "Learned encoding for 1 images.\n"
     ]
    }
   ],
   "source": [
    "import cv2\n",
    "import ipywidgets as widgets\n",
    "import face_recognition\n",
    "import numpy as np\n",
    "from PIL import Image, ImageDraw\n",
    "from IPython.display import display, clear_output\n",
    "\n",
    "alex_image = face_recognition.load_image_file(\"alex2.jpg\")\n",
    "alex_image_encoding = face_recognition.face_encodings(alex_image)[0]\n",
    "\n",
    "# Put more photos here\n",
    "# alex_image = face_recognition.load_image_file(\"alex2.jpg\")\n",
    "# alex_image_encoding = face_recognition.face_encodings(alex_image)[0]\n",
    "\n",
    "known_face_encodings = [\n",
    "    alex_image_encoding\n",
    "#   List all encodings here    \n",
    "#   alex_image_encoding\n",
    "]\n",
    "known_face_names = [\n",
    "    \"Alexander\"\n",
    "#   List all names here\n",
    "#   \"Alexander\"\n",
    "]\n",
    "print('Learned encoding for', len(known_face_encodings), 'images.')"
   ]
  },
  {
   "cell_type": "code",
   "execution_count": 2,
   "metadata": {
    "colab": {
     "base_uri": "https://localhost:8080/",
     "height": 34
    },
    "colab_type": "code",
    "id": "v1T2SXPV0quQ",
    "outputId": "8d9ef056-906a-4193-d153-744c2589f233"
   },
   "outputs": [
    {
     "data": {
      "application/vnd.jupyter.widget-view+json": {
       "model_id": "c33f1f4a073043af860f413fbe782d2b",
       "version_major": 2,
       "version_minor": 0
      },
      "text/plain": [
       "VBox(children=(HBox(children=(Button(button_style='info', description='Make photo', style=ButtonStyle(), toolt…"
      ]
     },
     "metadata": {},
     "output_type": "display_data"
    }
   ],
   "source": [
    "def make_photo(self):\n",
    "    global img_name\n",
    "    cam = cv2.VideoCapture(0)\n",
    "    cv2.namedWindow(\"test\")\n",
    "    img_counter = 0\n",
    "    while True:\n",
    "        ret, frame = cam.read()\n",
    "        cv2.imshow(\"test\", frame)\n",
    "        if not ret:\n",
    "            break\n",
    "        k = cv2.waitKey(1)\n",
    "\n",
    "        if k%256 == 27:\n",
    "            # ESC pressed\n",
    "            print(\"Escape hit, closing...\")\n",
    "            break\n",
    "        elif k%256 == 32:\n",
    "            # SPACE pressed\n",
    "            img_name = \"opencv_frame_{}.png\".format(img_counter)\n",
    "            cv2.imwrite(img_name, frame)\n",
    "            print(\"{} written!\".format(img_name))\n",
    "            img_counter += 1\n",
    "    cam.release()\n",
    "    cv2.destroyAllWindows()\n",
    "\n",
    "def check_photo(self):\n",
    "    # Load an image with an unknown face\n",
    "    unknown_image = face_recognition.load_image_file(img_name)\n",
    "\n",
    "    # Find all the faces and face encodings in the unknown image\n",
    "    face_locations = face_recognition.face_locations(unknown_image)\n",
    "    face_encodings = face_recognition.face_encodings(unknown_image, face_locations)\n",
    "\n",
    "    pil_image = Image.fromarray(unknown_image)\n",
    "    draw = ImageDraw.Draw(pil_image)\n",
    "\n",
    "    # Loop through each face found in the unknown image\n",
    "    for (top, right, bottom, left), face_encoding in zip(face_locations, face_encodings):\n",
    "        # See if the face is a match for the known face(s)\n",
    "        matches = face_recognition.compare_faces(known_face_encodings, face_encoding)\n",
    "\n",
    "        name = \"Unknown\"\n",
    "\n",
    "        # Or instead, use the known face with the smallest distance to the new face\n",
    "        face_distances = face_recognition.face_distance(known_face_encodings, face_encoding)\n",
    "        best_match_index = np.argmin(face_distances)\n",
    "        if matches[best_match_index]:\n",
    "            name = known_face_names[best_match_index]\n",
    "\n",
    "        # Draw a box around the face using the Pillow module\n",
    "        draw.rectangle(((left, top), (right, bottom)), outline=(0, 0, 255))\n",
    "\n",
    "        # Draw a label with a name below the face\n",
    "        text_width, text_height = draw.textsize(name)\n",
    "        draw.rectangle(((left, bottom - text_height - 10), (right, bottom)), fill=(0, 0, 255), outline=(0, 0, 255))\n",
    "        draw.text((left + 6, bottom - text_height - 5), name, fill=(255, 255, 255, 255))\n",
    "\n",
    "\n",
    "    # Remove the drawing library from memory as per the Pillow docs\n",
    "    del draw\n",
    "\n",
    "    # Display the resulting image\n",
    "    display(pil_image)\n",
    "     \n",
    "    \n",
    " \n",
    "button = widgets.Button(description='Make photo', button_style='info', tooltip='Start Game')\n",
    "button_2 = widgets.Button(description='Who is that?', button_style='info', tooltip='Recognise')\n",
    "button.on_click(make_photo)\n",
    "button_2.on_click(check_photo)\n",
    "down_box = widgets.HBox([button, button_2])\n",
    "ui = widgets.VBox([down_box])\n",
    "display(ui)"
   ]
  },
  {
   "cell_type": "code",
   "execution_count": null,
   "metadata": {},
   "outputs": [],
   "source": []
  }
 ],
 "metadata": {
  "accelerator": "GPU",
  "colab": {
   "collapsed_sections": [],
   "name": "DoctoFacePhoto.backup.ipynb",
   "provenance": [],
   "version": "0.3.2"
  },
  "kernelspec": {
   "display_name": "Python 3",
   "language": "python",
   "name": "python3"
  },
  "language_info": {
   "codemirror_mode": {
    "name": "ipython",
    "version": 3
   },
   "file_extension": ".py",
   "mimetype": "text/x-python",
   "name": "python",
   "nbconvert_exporter": "python",
   "pygments_lexer": "ipython3",
   "version": "3.7.4"
  }
 },
 "nbformat": 4,
 "nbformat_minor": 1
}
